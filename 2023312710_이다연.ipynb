{
  "nbformat": 4,
  "nbformat_minor": 0,
  "metadata": {
    "colab": {
      "provenance": []
    },
    "kernelspec": {
      "name": "python3",
      "display_name": "Python 3"
    },
    "language_info": {
      "name": "python"
    }
  },
  "cells": [
    {
      "cell_type": "markdown",
      "source": [
        "## Task\n",
        "- Complete **isHappy** function following the description below\n",
        "\n",
        "### Happy Number\n",
        "Write an algorithm to determine if a number **n** is happy.\n",
        "\n",
        "A **happy number** is a number defined by the following process:\n",
        "\n",
        "* Starting with any positive integer, replace the number by the sum of the squares of its digits.\n",
        "* Repeat the process until the number equals 1 (where it will stay), or it **loops endlessly in a cycle** which does not include 1.\n",
        "* Those numbers for which this process **ends in 1** are happy.\n",
        "\n",
        "Return **true** if n is a happy number, and **false** if not.\n",
        "\n",
        "Constraints:\n",
        "1 <= n <= $2^{31}$ - 1"
      ],
      "metadata": {
        "id": "TV3Socqg8BVl"
      }
    },
    {
      "cell_type": "code",
      "execution_count": 43,
      "metadata": {
        "id": "5FcxitVf5kdQ",
        "colab": {
          "base_uri": "https://localhost:8080/"
        },
        "outputId": "d96afa9d-c70c-4c49-de28-1b7747000b1a"
      },
      "outputs": [
        {
          "output_type": "stream",
          "name": "stdout",
          "text": [
            "2\n",
            "False\n"
          ]
        }
      ],
      "source": [
        "def intToArray(n):\n",
        "  numbList = []\n",
        "  for i in str(n) :\n",
        "    numbList.append(i)\n",
        "  return numbList\n",
        "\n",
        "def isHappy(n):\n",
        "  numbList = intToArray(n)\n",
        "  length = len(numbList)\n",
        "  #print(length)\n",
        "  sum = 0\n",
        "  j=0\n",
        "  #print(numbList)\n",
        "  while j<length :\n",
        "    x = numbList[j]\n",
        "    y = int(x)\n",
        "    sum = sum + y**2\n",
        "    j=j+1\n",
        "  return sum\n",
        "\n",
        "\n",
        "\n",
        "  #return\n",
        "\n",
        "n = input()\n",
        "x = isHappy(n)\n",
        "while x!=1 :\n",
        "  #print(\"sum:\", x)\n",
        "  y = str(x)\n",
        "  length = len(y)\n",
        "  if length<2 :\n",
        "    print(\"False\")\n",
        "    break;\n",
        "  else :\n",
        "    x = isHappy(x)\n",
        "\n",
        "if x == 1 :\n",
        "  print(\"True\")\n",
        "\n",
        "\n"
      ]
    },
    {
      "cell_type": "markdown",
      "source": [
        "**Testcase 1.**\n",
        "\n",
        "**Input**: 19\n",
        "\n",
        "**Output**: True\n",
        "\n",
        "**Explanation**:\n",
        "\n",
        "$1^2 + 9^2 = 82$\n",
        "\n",
        "$8^2 + 2^2 = 68$\n",
        "\n",
        "$6^2 + 8^2 = 100$\n",
        "\n",
        "$1^2 + 0^2 + 0^2 = 1$"
      ],
      "metadata": {
        "id": "eRrh24Ognrqf"
      }
    },
    {
      "cell_type": "markdown",
      "source": [
        "**Testcase 2.**\n",
        "\n",
        "**Input**: 2\n",
        "\n",
        "**Output**: False"
      ],
      "metadata": {
        "id": "dE7YMY8qoPoj"
      }
    }
  ]
}